{
 "cells": [
  {
   "cell_type": "markdown",
   "id": "3bf31e69",
   "metadata": {},
   "source": [
    "# Local Hidden-Variable Baseline\n",
    "\n",
    "This notebook provides a reference simulation for a simple local hidden-variable (LHV) model. It pre-assigns outcomes to every measurement setting, tracks the running CHSH value, and aggregates the maxima over repeated trials. The results demonstrate how classical assignments stay beneath the \\(S=2\\) ceiling, offering a direct contrast with the entangled scenarios in the other notebooks."
   ]
  },
  {
   "cell_type": "code",
   "execution_count": null,
   "id": "9f3e38ba",
   "metadata": {},
   "outputs": [],
   "source": [
    "import numpy as np\n",
    "import matplotlib.pyplot as plt\n",
    "\n",
    "labels = ('a', 'a_prime', 'b', 'b_prime')\n",
    "pairs = (\n",
    "    ('a', 'b'),\n",
    "    ('a', 'b_prime'),\n",
    "    ('a_prime', 'b'),\n",
    "    ('a_prime', 'b_prime'),\n",
    ")\n",
    "\n",
    "def local_hidden_variable_stream(shots=20000, schedule='cycle', seed=42):\n",
    "    rng = np.random.default_rng(seed)\n",
    "    corr_sums = {pair: 0.0 for pair in pairs}\n",
    "    corr_counts = {pair: 0 for pair in pairs}\n",
    "    running_s = []\n",
    "    shot_axis = []\n",
    "    for idx in range(1, shots + 1):\n",
    "        hidden = {label: rng.choice((-1, 1)) for label in labels}\n",
    "        if schedule == 'random':\n",
    "            pair = pairs[int(rng.integers(len(pairs)))]\n",
    "        else:\n",
    "            pair = pairs[(idx - 1) % len(pairs)]\n",
    "        product = hidden[pair[0]] * hidden[pair[1]]\n",
    "        corr_sums[pair] += product\n",
    "        corr_counts[pair] += 1\n",
    "        if all(corr_counts[p] > 0 for p in pairs):\n",
    "            e_vals = [corr_sums[p] / corr_counts[p] for p in pairs]\n",
    "            running_s.append(e_vals[0] + e_vals[1] + e_vals[2] - e_vals[3])\n",
    "            shot_axis.append(idx)\n",
    "    return shot_axis, running_s\n",
    "\n",
    "shots = 20000\n",
    "shot_axis, running_s = local_hidden_variable_stream(shots=shots, schedule='cycle', seed=99)\n",
    "\n",
    "plt.figure(figsize=(8, 4))\n",
    "plt.plot(shot_axis, running_s, label='Running S (LHV)')\n",
    "plt.axhline(2.0, color='tab:gray', linestyle='--', label='Local bound (S=2)')\n",
    "plt.xlabel('Shot')\n",
    "plt.ylabel('S value')\n",
    "plt.title('Local hidden-variable CHSH never exceeds 2')\n",
    "plt.legend()\n",
    "plt.show()"
   ]
  },
  {
   "cell_type": "code",
   "execution_count": null,
   "id": "eb38b8b3",
   "metadata": {},
   "outputs": [],
   "source": [
    "# Repeat the LHV sampler a few times to show the distribution stays below 2.\n",
    "replications = 50\n",
    "shots = 5000\n",
    "seeds = range(replications)\n",
    "max_values = []\n",
    "for seed in seeds:\n",
    "    _, s_series = local_hidden_variable_stream(shots=shots, schedule='random', seed=seed)\n",
    "    if s_series:\n",
    "        max_values.append(max(s_series))\n",
    "\n",
    "plt.figure(figsize=(8, 4))\n",
    "plt.hist(max_values, bins=10, color='tab:blue', alpha=0.7)\n",
    "plt.axvline(2.0, color='tab:red', linestyle='--', label='S = 2')\n",
    "plt.xlabel('Maximum S observed over shots')\n",
    "plt.ylabel('Count')\n",
    "plt.title('Local hidden-variable runs stay under the CHSH bound')\n",
    "plt.legend()\n",
    "plt.show()"
   ]
  },
  {
   "cell_type": "markdown",
   "id": "0059b4e3",
   "metadata": {},
   "source": [
    "## Explore variations\n",
    "\n",
    "Change the schedule, increase the number of shots, or bias the hidden assignments to\n",
    "see how the classical ceiling persists."
   ]
  }
 ],
 "metadata": {
  "kernelspec": {
   "display_name": "Python 3",
   "language": "python",
   "name": "python3"
  },
  "language_info": {
   "codemirror_mode": {
    "name": "ipython",
    "version": 3
   },
   "file_extension": ".py",
   "mimetype": "text/x-python",
   "name": "python",
   "version": "3.12"
  }
 },
 "nbformat": 4,
 "nbformat_minor": 5
}
