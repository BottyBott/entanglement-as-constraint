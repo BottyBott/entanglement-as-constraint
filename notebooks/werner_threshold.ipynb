{
 "cells": [
  {
   "cell_type": "markdown",
   "id": "154eda0e",
   "metadata": {},
   "source": [
    "# Werner State Visibility Sweep\n",
    "\n",
    "This notebook explores how adding white noise to an entangled Bell state changes its ability to violate the CHSH inequality. By sweeping the Werner-state visibility parameter \\(v\\), it estimates \\(S(v)\\) for each point and highlights where the curve drops back below the classical bound of 2. Use it to relate the strength of the shared constraint to the correlations that remain measurable."
   ]
  },
  {
   "cell_type": "code",
   "execution_count": null,
   "id": "852522d4",
   "metadata": {},
   "outputs": [],
   "source": [
    "import math\n",
    "import numpy as np\n",
    "import matplotlib.pyplot as plt\n",
    "\n",
    "from eac.chsh import chsh_value\n",
    "from eac.states import werner_state\n",
    "\n",
    "angles = ((0.0, math.pi / 2), (math.pi / 4, -math.pi / 4))\n",
    "shots = 20000\n",
    "visibilities = np.linspace(0.0, 1.0, 31)\n",
    "seed = 321\n",
    "rng = np.random.default_rng(seed)\n",
    "\n",
    "values = []\n",
    "for v in visibilities:\n",
    "    s_val = chsh_value(werner_state(v), angles, shots=shots, rng=rng).value\n",
    "    values.append(s_val)\n",
    "\n",
    "plt.figure(figsize=(8, 4))\n",
    "plt.plot(visibilities, values, marker='o')\n",
    "plt.axhline(2.0, color='tab:gray', linestyle='--', label='Local bound (S=2)')\n",
    "plt.axhline(2 * math.sqrt(2), color='tab:red', linestyle=':', label='Tsirelson bound')\n",
    "plt.axvline(1 / math.sqrt(2), color='tab:green', linestyle='--', label='v = 1/sqrt(2)')\n",
    "plt.xlabel('Visibility v')\n",
    "plt.ylabel('Estimated S value')\n",
    "plt.ylim(1.5, 3.0)\n",
    "plt.title('Werner-state CHSH sweep')\n",
    "plt.legend(loc='lower right')\n",
    "plt.show()\n",
    "\n",
    "violating = [v for v, s in zip(visibilities, values) if s > 2.0]\n",
    "if violating:\n",
    "    first_violation = violating[0]\n",
    "    print(f\"First observed violation near v={first_violation:.4f}\")\n",
    "else:\n",
    "    print(\"No violation observed; increase shots or adjust the grid.\")"
   ]
  },
  {
   "cell_type": "markdown",
   "id": "26a8feef",
   "metadata": {},
   "source": [
    "## Adjust the experiment\n",
    "\n",
    "Play with the `visibilities`, `shots`, or even the angle tuples to see how the\n",
    "constraint weakens or strengthens."
   ]
  }
 ],
 "metadata": {
  "kernelspec": {
   "display_name": "Python 3",
   "language": "python",
   "name": "python3"
  },
  "language_info": {
   "codemirror_mode": {
    "name": "ipython",
    "version": 3
   },
   "file_extension": ".py",
   "mimetype": "text/x-python",
   "name": "python",
   "version": "3.12"
  }
 },
 "nbformat": 4,
 "nbformat_minor": 5
}
